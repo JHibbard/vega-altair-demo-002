{
 "cells": [
  {
   "cell_type": "markdown",
   "metadata": {
    "application/vnd.databricks.v1+cell": {
     "cellMetadata": {},
     "inputWidgets": {},
     "nuid": "f63ceed1-1fe0-4a97-8ea0-89c19f174974",
     "showTitle": false,
     "title": ""
    }
   },
   "source": [
    "# VegaFusion"
   ]
  },
  {
   "cell_type": "markdown",
   "metadata": {
    "application/vnd.databricks.v1+cell": {
     "cellMetadata": {},
     "inputWidgets": {},
     "nuid": "60adfa00-641e-4f0b-ba8b-ad22cd999994",
     "showTitle": false,
     "title": ""
    }
   },
   "source": [
    "## Environment Setup"
   ]
  },
  {
   "cell_type": "markdown",
   "metadata": {
    "application/vnd.databricks.v1+cell": {
     "cellMetadata": {},
     "inputWidgets": {},
     "nuid": "475c74bc-acbd-40de-96ba-a703fba48118",
     "showTitle": false,
     "title": ""
    }
   },
   "source": [
    "### Import Libraries"
   ]
  },
  {
   "cell_type": "code",
   "execution_count": 1,
   "metadata": {
    "application/vnd.databricks.v1+cell": {
     "cellMetadata": {
      "byteLimit": 2048000,
      "rowLimit": 10000
     },
     "inputWidgets": {},
     "nuid": "182293cc-152f-4491-ae5c-b9f282c5611f",
     "showTitle": false,
     "title": ""
    },
    "tags": []
   },
   "outputs": [],
   "source": [
    "# Standard Libraries\n",
    "import pathlib\n",
    "\n",
    "# External Libraries\n",
    "import altair as alt\n",
    "import vegafusion as vf\n",
    "import delta_sharing\n",
    "import requests"
   ]
  },
  {
   "cell_type": "code",
   "execution_count": 2,
   "metadata": {
    "application/vnd.databricks.v1+cell": {
     "cellMetadata": {
      "byteLimit": 2048000,
      "rowLimit": 10000
     },
     "inputWidgets": {},
     "nuid": "ca329efa-0ccc-4957-90c5-62f213d9eb41",
     "showTitle": false,
     "title": ""
    },
    "tags": []
   },
   "outputs": [],
   "source": [
    "# URL of profile for example Delta Sharing Server\n",
    "url = 'https://databricks-datasets-oregon.s3-us-west-2.amazonaws.com/delta-sharing/share/open-datasets.share'\n",
    "\n",
    "# Path of profile for example Delta Sharing Server\n",
    "path = pathlib.Path('./profile.share').resolve().as_posix()"
   ]
  },
  {
   "cell_type": "markdown",
   "metadata": {
    "application/vnd.databricks.v1+cell": {
     "cellMetadata": {},
     "inputWidgets": {},
     "nuid": "5be65635-1bd4-46b4-a8c7-11c422bec783",
     "showTitle": false,
     "title": ""
    }
   },
   "source": [
    "### Read Delta Table"
   ]
  },
  {
   "cell_type": "code",
   "execution_count": 3,
   "metadata": {
    "application/vnd.databricks.v1+cell": {
     "cellMetadata": {
      "byteLimit": 2048000,
      "rowLimit": 10000
     },
     "inputWidgets": {},
     "nuid": "83416159-ddc9-4660-aa87-53338b2da882",
     "showTitle": false,
     "title": ""
    },
    "tags": []
   },
   "outputs": [
    {
     "name": "stdout",
     "output_type": "stream",
     "text": [
      "{\n",
      "  \"shareCredentialsVersion\": 1,\n",
      "  \"endpoint\": \"https://sharing.delta.io/delta-sharing/\",\n",
      "  \"bearerToken\": \"faaie590d541265bcab1f2de9813274bf233\"\n",
      "}\n"
     ]
    }
   ],
   "source": [
    "profile = requests.get(url).text\n",
    "print(profile)"
   ]
  },
  {
   "cell_type": "code",
   "execution_count": 4,
   "metadata": {
    "application/vnd.databricks.v1+cell": {
     "cellMetadata": {
      "byteLimit": 2048000,
      "rowLimit": 10000
     },
     "inputWidgets": {},
     "nuid": "4541c578-8102-461a-a334-6703d73ef979",
     "showTitle": false,
     "title": ""
    },
    "tags": []
   },
   "outputs": [],
   "source": [
    "with open(path, 'w') as file:\n",
    "  file.write(profile)"
   ]
  },
  {
   "cell_type": "code",
   "execution_count": 5,
   "metadata": {
    "application/vnd.databricks.v1+cell": {
     "cellMetadata": {
      "byteLimit": 2048000,
      "rowLimit": 10000
     },
     "inputWidgets": {},
     "nuid": "00458192-6ee5-4ca3-b0c4-ef8516119020",
     "showTitle": false,
     "title": ""
    },
    "tags": []
   },
   "outputs": [
    {
     "data": {
      "text/plain": [
       "[Table(name='COVID_19_NYT', share='delta_sharing', schema='default'),\n",
       " Table(name='boston-housing', share='delta_sharing', schema='default'),\n",
       " Table(name='flight-asa_2008', share='delta_sharing', schema='default'),\n",
       " Table(name='lending_club', share='delta_sharing', schema='default'),\n",
       " Table(name='nyctaxi_2019', share='delta_sharing', schema='default'),\n",
       " Table(name='nyctaxi_2019_part', share='delta_sharing', schema='default'),\n",
       " Table(name='owid-covid-data', share='delta_sharing', schema='default')]"
      ]
     },
     "execution_count": 5,
     "metadata": {},
     "output_type": "execute_result"
    }
   ],
   "source": [
    "client = delta_sharing.SharingClient(path)\n",
    "tables = client.list_all_tables()\n",
    "tables"
   ]
  },
  {
   "cell_type": "code",
   "execution_count": 6,
   "metadata": {
    "application/vnd.databricks.v1+cell": {
     "cellMetadata": {
      "byteLimit": 2048000,
      "rowLimit": 10000
     },
     "inputWidgets": {},
     "nuid": "11e504df-ef4e-4cff-9348-2d2a03434559",
     "showTitle": false,
     "title": ""
    },
    "tags": []
   },
   "outputs": [
    {
     "data": {
      "text/html": [
       "<div>\n",
       "<style scoped>\n",
       "    .dataframe tbody tr th:only-of-type {\n",
       "        vertical-align: middle;\n",
       "    }\n",
       "\n",
       "    .dataframe tbody tr th {\n",
       "        vertical-align: top;\n",
       "    }\n",
       "\n",
       "    .dataframe thead th {\n",
       "        text-align: right;\n",
       "    }\n",
       "</style>\n",
       "<table border=\"1\" class=\"dataframe\">\n",
       "  <thead>\n",
       "    <tr style=\"text-align: right;\">\n",
       "      <th></th>\n",
       "      <th>vendor_id</th>\n",
       "      <th>pickup_datetime</th>\n",
       "      <th>dropoff_datetime</th>\n",
       "      <th>passenger_count</th>\n",
       "      <th>trip_distance</th>\n",
       "      <th>pickup_longitude</th>\n",
       "      <th>pickup_latitude</th>\n",
       "      <th>rate_code_id</th>\n",
       "      <th>store_and_fwd_flag</th>\n",
       "      <th>dropoff_longitude</th>\n",
       "      <th>dropoff_latitude</th>\n",
       "      <th>payment_type</th>\n",
       "      <th>fare_amount</th>\n",
       "      <th>extra</th>\n",
       "      <th>mta_tax</th>\n",
       "      <th>tip_amount</th>\n",
       "      <th>tolls_amount</th>\n",
       "      <th>total_amount</th>\n",
       "      <th>yyyyMM</th>\n",
       "    </tr>\n",
       "  </thead>\n",
       "  <tbody>\n",
       "    <tr>\n",
       "      <th>0</th>\n",
       "      <td>1</td>\n",
       "      <td>2019-10-01 00:19:55</td>\n",
       "      <td>2019-10-01 00:23:57</td>\n",
       "      <td>1</td>\n",
       "      <td>0.40</td>\n",
       "      <td>1.0</td>\n",
       "      <td>NaN</td>\n",
       "      <td>48</td>\n",
       "      <td>163</td>\n",
       "      <td>2.0</td>\n",
       "      <td>4.5</td>\n",
       "      <td>3</td>\n",
       "      <td>0.5</td>\n",
       "      <td>0.00</td>\n",
       "      <td>0.0</td>\n",
       "      <td>0.3</td>\n",
       "      <td>8.30</td>\n",
       "      <td>2.5</td>\n",
       "      <td>2019-10</td>\n",
       "    </tr>\n",
       "    <tr>\n",
       "      <th>1</th>\n",
       "      <td>1</td>\n",
       "      <td>2019-10-01 00:06:52</td>\n",
       "      <td>2019-10-01 00:21:23</td>\n",
       "      <td>1</td>\n",
       "      <td>5.00</td>\n",
       "      <td>1.0</td>\n",
       "      <td>NaN</td>\n",
       "      <td>137</td>\n",
       "      <td>80</td>\n",
       "      <td>1.0</td>\n",
       "      <td>17.0</td>\n",
       "      <td>3</td>\n",
       "      <td>0.5</td>\n",
       "      <td>5.20</td>\n",
       "      <td>0.0</td>\n",
       "      <td>0.3</td>\n",
       "      <td>26.00</td>\n",
       "      <td>2.5</td>\n",
       "      <td>2019-10</td>\n",
       "    </tr>\n",
       "    <tr>\n",
       "      <th>2</th>\n",
       "      <td>2</td>\n",
       "      <td>2019-10-01 00:36:08</td>\n",
       "      <td>2019-10-01 00:36:15</td>\n",
       "      <td>1</td>\n",
       "      <td>0.00</td>\n",
       "      <td>1.0</td>\n",
       "      <td>NaN</td>\n",
       "      <td>25</td>\n",
       "      <td>25</td>\n",
       "      <td>4.0</td>\n",
       "      <td>-2.5</td>\n",
       "      <td>-0.5</td>\n",
       "      <td>-0.5</td>\n",
       "      <td>0.00</td>\n",
       "      <td>0.0</td>\n",
       "      <td>-0.3</td>\n",
       "      <td>-3.80</td>\n",
       "      <td>0.0</td>\n",
       "      <td>2019-10</td>\n",
       "    </tr>\n",
       "    <tr>\n",
       "      <th>3</th>\n",
       "      <td>2</td>\n",
       "      <td>2019-10-01 00:36:08</td>\n",
       "      <td>2019-10-01 00:36:15</td>\n",
       "      <td>1</td>\n",
       "      <td>0.00</td>\n",
       "      <td>1.0</td>\n",
       "      <td>NaN</td>\n",
       "      <td>25</td>\n",
       "      <td>25</td>\n",
       "      <td>2.0</td>\n",
       "      <td>2.5</td>\n",
       "      <td>0.5</td>\n",
       "      <td>0.5</td>\n",
       "      <td>0.00</td>\n",
       "      <td>0.0</td>\n",
       "      <td>0.3</td>\n",
       "      <td>3.80</td>\n",
       "      <td>0.0</td>\n",
       "      <td>2019-10</td>\n",
       "    </tr>\n",
       "    <tr>\n",
       "      <th>4</th>\n",
       "      <td>2</td>\n",
       "      <td>2019-10-01 00:20:15</td>\n",
       "      <td>2019-10-01 00:20:29</td>\n",
       "      <td>1</td>\n",
       "      <td>0.00</td>\n",
       "      <td>1.0</td>\n",
       "      <td>NaN</td>\n",
       "      <td>193</td>\n",
       "      <td>193</td>\n",
       "      <td>1.0</td>\n",
       "      <td>2.5</td>\n",
       "      <td>0.5</td>\n",
       "      <td>0.5</td>\n",
       "      <td>0.00</td>\n",
       "      <td>0.0</td>\n",
       "      <td>0.3</td>\n",
       "      <td>3.80</td>\n",
       "      <td>0.0</td>\n",
       "      <td>2019-10</td>\n",
       "    </tr>\n",
       "    <tr>\n",
       "      <th>...</th>\n",
       "      <td>...</td>\n",
       "      <td>...</td>\n",
       "      <td>...</td>\n",
       "      <td>...</td>\n",
       "      <td>...</td>\n",
       "      <td>...</td>\n",
       "      <td>...</td>\n",
       "      <td>...</td>\n",
       "      <td>...</td>\n",
       "      <td>...</td>\n",
       "      <td>...</td>\n",
       "      <td>...</td>\n",
       "      <td>...</td>\n",
       "      <td>...</td>\n",
       "      <td>...</td>\n",
       "      <td>...</td>\n",
       "      <td>...</td>\n",
       "      <td>...</td>\n",
       "      <td>...</td>\n",
       "    </tr>\n",
       "    <tr>\n",
       "      <th>999995</th>\n",
       "      <td>2</td>\n",
       "      <td>2019-10-07 20:47:56</td>\n",
       "      <td>2019-10-07 21:00:32</td>\n",
       "      <td>1</td>\n",
       "      <td>1.74</td>\n",
       "      <td>1.0</td>\n",
       "      <td>NaN</td>\n",
       "      <td>107</td>\n",
       "      <td>233</td>\n",
       "      <td>1.0</td>\n",
       "      <td>9.5</td>\n",
       "      <td>0.5</td>\n",
       "      <td>0.5</td>\n",
       "      <td>2.66</td>\n",
       "      <td>0.0</td>\n",
       "      <td>0.3</td>\n",
       "      <td>15.96</td>\n",
       "      <td>2.5</td>\n",
       "      <td>2019-10</td>\n",
       "    </tr>\n",
       "    <tr>\n",
       "      <th>999996</th>\n",
       "      <td>2</td>\n",
       "      <td>2019-10-07 20:05:14</td>\n",
       "      <td>2019-10-07 20:12:43</td>\n",
       "      <td>1</td>\n",
       "      <td>1.41</td>\n",
       "      <td>1.0</td>\n",
       "      <td>NaN</td>\n",
       "      <td>262</td>\n",
       "      <td>237</td>\n",
       "      <td>1.0</td>\n",
       "      <td>7.0</td>\n",
       "      <td>0.5</td>\n",
       "      <td>0.5</td>\n",
       "      <td>1.30</td>\n",
       "      <td>0.0</td>\n",
       "      <td>0.3</td>\n",
       "      <td>12.10</td>\n",
       "      <td>2.5</td>\n",
       "      <td>2019-10</td>\n",
       "    </tr>\n",
       "    <tr>\n",
       "      <th>999997</th>\n",
       "      <td>2</td>\n",
       "      <td>2019-10-07 20:13:55</td>\n",
       "      <td>2019-10-07 20:22:57</td>\n",
       "      <td>1</td>\n",
       "      <td>1.29</td>\n",
       "      <td>1.0</td>\n",
       "      <td>NaN</td>\n",
       "      <td>237</td>\n",
       "      <td>263</td>\n",
       "      <td>1.0</td>\n",
       "      <td>8.0</td>\n",
       "      <td>0.5</td>\n",
       "      <td>0.5</td>\n",
       "      <td>2.36</td>\n",
       "      <td>0.0</td>\n",
       "      <td>0.3</td>\n",
       "      <td>14.16</td>\n",
       "      <td>2.5</td>\n",
       "      <td>2019-10</td>\n",
       "    </tr>\n",
       "    <tr>\n",
       "      <th>999998</th>\n",
       "      <td>2</td>\n",
       "      <td>2019-10-07 20:47:30</td>\n",
       "      <td>2019-10-07 20:55:58</td>\n",
       "      <td>1</td>\n",
       "      <td>1.85</td>\n",
       "      <td>1.0</td>\n",
       "      <td>NaN</td>\n",
       "      <td>140</td>\n",
       "      <td>233</td>\n",
       "      <td>1.0</td>\n",
       "      <td>9.0</td>\n",
       "      <td>0.5</td>\n",
       "      <td>0.5</td>\n",
       "      <td>2.56</td>\n",
       "      <td>0.0</td>\n",
       "      <td>0.3</td>\n",
       "      <td>15.36</td>\n",
       "      <td>2.5</td>\n",
       "      <td>2019-10</td>\n",
       "    </tr>\n",
       "    <tr>\n",
       "      <th>999999</th>\n",
       "      <td>2</td>\n",
       "      <td>2019-10-07 20:08:41</td>\n",
       "      <td>2019-10-07 20:15:21</td>\n",
       "      <td>1</td>\n",
       "      <td>0.98</td>\n",
       "      <td>1.0</td>\n",
       "      <td>NaN</td>\n",
       "      <td>186</td>\n",
       "      <td>68</td>\n",
       "      <td>2.0</td>\n",
       "      <td>6.0</td>\n",
       "      <td>0.5</td>\n",
       "      <td>0.5</td>\n",
       "      <td>0.00</td>\n",
       "      <td>0.0</td>\n",
       "      <td>0.3</td>\n",
       "      <td>9.80</td>\n",
       "      <td>2.5</td>\n",
       "      <td>2019-10</td>\n",
       "    </tr>\n",
       "  </tbody>\n",
       "</table>\n",
       "<p>1000000 rows × 19 columns</p>\n",
       "</div>"
      ],
      "text/plain": [
       "       vendor_id     pickup_datetime    dropoff_datetime  passenger_count  \\\n",
       "0              1 2019-10-01 00:19:55 2019-10-01 00:23:57                1   \n",
       "1              1 2019-10-01 00:06:52 2019-10-01 00:21:23                1   \n",
       "2              2 2019-10-01 00:36:08 2019-10-01 00:36:15                1   \n",
       "3              2 2019-10-01 00:36:08 2019-10-01 00:36:15                1   \n",
       "4              2 2019-10-01 00:20:15 2019-10-01 00:20:29                1   \n",
       "...          ...                 ...                 ...              ...   \n",
       "999995         2 2019-10-07 20:47:56 2019-10-07 21:00:32                1   \n",
       "999996         2 2019-10-07 20:05:14 2019-10-07 20:12:43                1   \n",
       "999997         2 2019-10-07 20:13:55 2019-10-07 20:22:57                1   \n",
       "999998         2 2019-10-07 20:47:30 2019-10-07 20:55:58                1   \n",
       "999999         2 2019-10-07 20:08:41 2019-10-07 20:15:21                1   \n",
       "\n",
       "        trip_distance  pickup_longitude  pickup_latitude  rate_code_id  \\\n",
       "0                0.40               1.0              NaN            48   \n",
       "1                5.00               1.0              NaN           137   \n",
       "2                0.00               1.0              NaN            25   \n",
       "3                0.00               1.0              NaN            25   \n",
       "4                0.00               1.0              NaN           193   \n",
       "...               ...               ...              ...           ...   \n",
       "999995           1.74               1.0              NaN           107   \n",
       "999996           1.41               1.0              NaN           262   \n",
       "999997           1.29               1.0              NaN           237   \n",
       "999998           1.85               1.0              NaN           140   \n",
       "999999           0.98               1.0              NaN           186   \n",
       "\n",
       "       store_and_fwd_flag  dropoff_longitude  dropoff_latitude payment_type  \\\n",
       "0                     163                2.0               4.5            3   \n",
       "1                      80                1.0              17.0            3   \n",
       "2                      25                4.0              -2.5         -0.5   \n",
       "3                      25                2.0               2.5          0.5   \n",
       "4                     193                1.0               2.5          0.5   \n",
       "...                   ...                ...               ...          ...   \n",
       "999995                233                1.0               9.5          0.5   \n",
       "999996                237                1.0               7.0          0.5   \n",
       "999997                263                1.0               8.0          0.5   \n",
       "999998                233                1.0               9.0          0.5   \n",
       "999999                 68                2.0               6.0          0.5   \n",
       "\n",
       "        fare_amount  extra  mta_tax  tip_amount  tolls_amount  total_amount  \\\n",
       "0               0.5   0.00      0.0         0.3          8.30           2.5   \n",
       "1               0.5   5.20      0.0         0.3         26.00           2.5   \n",
       "2              -0.5   0.00      0.0        -0.3         -3.80           0.0   \n",
       "3               0.5   0.00      0.0         0.3          3.80           0.0   \n",
       "4               0.5   0.00      0.0         0.3          3.80           0.0   \n",
       "...             ...    ...      ...         ...           ...           ...   \n",
       "999995          0.5   2.66      0.0         0.3         15.96           2.5   \n",
       "999996          0.5   1.30      0.0         0.3         12.10           2.5   \n",
       "999997          0.5   2.36      0.0         0.3         14.16           2.5   \n",
       "999998          0.5   2.56      0.0         0.3         15.36           2.5   \n",
       "999999          0.5   0.00      0.0         0.3          9.80           2.5   \n",
       "\n",
       "         yyyyMM  \n",
       "0       2019-10  \n",
       "1       2019-10  \n",
       "2       2019-10  \n",
       "3       2019-10  \n",
       "4       2019-10  \n",
       "...         ...  \n",
       "999995  2019-10  \n",
       "999996  2019-10  \n",
       "999997  2019-10  \n",
       "999998  2019-10  \n",
       "999999  2019-10  \n",
       "\n",
       "[1000000 rows x 19 columns]"
      ]
     },
     "execution_count": 6,
     "metadata": {},
     "output_type": "execute_result"
    }
   ],
   "source": [
    "table = tables[5]  # NYC Taxi Dataset\n",
    "pdf = delta_sharing.load_as_pandas(\n",
    "  url=f'{path}#{table.share}.{table.schema}.{table.name}',\n",
    "  limit=1000000,\n",
    ")\n",
    "\n",
    "pdf"
   ]
  },
  {
   "cell_type": "markdown",
   "metadata": {
    "application/vnd.databricks.v1+cell": {
     "cellMetadata": {},
     "inputWidgets": {},
     "nuid": "cde6604e-ee22-4aed-b134-602bc0adf29e",
     "showTitle": false,
     "title": ""
    }
   },
   "source": [
    "## Plot Dataset\n",
    "\n",
    "By default Vega-Altair restricts the number of rows to 5K. It's able to handle larger datasets up to ~50K rows no problem, but to handle our 1 million rows we'll need to use VegaFusion. VegaFusion provides serverside scaling of Vega-Altair visualization by offloading expensive computations to Rust which can handle the added load."
   ]
  },
  {
   "cell_type": "code",
   "execution_count": 11,
   "metadata": {
    "application/vnd.databricks.v1+cell": {
     "cellMetadata": {
      "byteLimit": 2048000,
      "rowLimit": 10000
     },
     "inputWidgets": {},
     "nuid": "6ea70315-6185-4262-a28c-2efcbced19fe",
     "showTitle": false,
     "title": ""
    },
    "tags": []
   },
   "outputs": [
    {
     "data": {
      "text/plain": [
       "vegafusion.enable(mimetype='html', row_limit=5000000, embed_options=None)"
      ]
     },
     "execution_count": 11,
     "metadata": {},
     "output_type": "execute_result"
    }
   ],
   "source": [
    "# Turn off the 5K limit\n",
    "# Turn on Rust powered serverside scaling of Vega-Altair!\n",
    "vf.enable(row_limit=5000000)"
   ]
  },
  {
   "cell_type": "code",
   "execution_count": 8,
   "metadata": {
    "application/vnd.databricks.v1+cell": {
     "cellMetadata": {
      "byteLimit": 2048000,
      "rowLimit": 10000
     },
     "inputWidgets": {},
     "nuid": "cc0ad01a-7d4b-4eb5-84c1-bb960d1910bd",
     "showTitle": false,
     "title": ""
    },
    "tags": []
   },
   "outputs": [
    {
     "data": {
      "text/html": [
       "\n",
       "<div id=\"altair-viz-0c28ee4c72ff45c48d4d5e83fad5c23c\"></div>\n",
       "<script type=\"text/javascript\">\n",
       "  var VEGA_DEBUG = (typeof VEGA_DEBUG == \"undefined\") ? {} : VEGA_DEBUG;\n",
       "  (function(spec, embedOpt){\n",
       "    let outputDiv = document.currentScript.previousElementSibling;\n",
       "    if (outputDiv.id !== \"altair-viz-0c28ee4c72ff45c48d4d5e83fad5c23c\") {\n",
       "      outputDiv = document.getElementById(\"altair-viz-0c28ee4c72ff45c48d4d5e83fad5c23c\");\n",
       "    }\n",
       "    const paths = {\n",
       "      \"vega\": \"https://cdn.jsdelivr.net/npm//vega@5?noext\",\n",
       "      \"vega-lib\": \"https://cdn.jsdelivr.net/npm//vega-lib?noext\",\n",
       "      \"vega-lite\": \"https://cdn.jsdelivr.net/npm//vega-lite@v4.17.0?noext\",\n",
       "      \"vega-embed\": \"https://cdn.jsdelivr.net/npm//vega-embed@6?noext\",\n",
       "    };\n",
       "\n",
       "    function maybeLoadScript(lib, version) {\n",
       "      var key = `${lib.replace(\"-\", \"\")}_version`;\n",
       "      return (VEGA_DEBUG[key] == version) ?\n",
       "        Promise.resolve(paths[lib]) :\n",
       "        new Promise(function(resolve, reject) {\n",
       "          var s = document.createElement('script');\n",
       "          document.getElementsByTagName(\"head\")[0].appendChild(s);\n",
       "          s.async = true;\n",
       "          s.onload = () => {\n",
       "            VEGA_DEBUG[key] = version;\n",
       "            return resolve(paths[lib]);\n",
       "          };\n",
       "          s.onerror = () => reject(`Error loading script: ${paths[lib]}`);\n",
       "          s.src = paths[lib];\n",
       "        });\n",
       "    }\n",
       "\n",
       "    function showError(err) {\n",
       "      outputDiv.innerHTML = `<div class=\"error\" style=\"color:red;\">${err}</div>`;\n",
       "      throw err;\n",
       "    }\n",
       "\n",
       "    function displayChart(vegaEmbed) {\n",
       "      vegaEmbed(outputDiv, spec, embedOpt)\n",
       "        .catch(err => showError(`Javascript Error: ${err.message}<br>This usually means there's a typo in your chart specification. See the javascript console for the full traceback.`));\n",
       "    }\n",
       "\n",
       "    if(typeof define === \"function\" && define.amd) {\n",
       "      requirejs.config({paths});\n",
       "      require([\"vega-embed\"], displayChart, err => showError(`Error loading script: ${err.message}`));\n",
       "    } else {\n",
       "      maybeLoadScript(\"vega\", \"5\")\n",
       "        .then(() => maybeLoadScript(\"vega-lite\", \"v4.17.0\"))\n",
       "        .then(() => maybeLoadScript(\"vega-embed\", \"6\"))\n",
       "        .catch(showError)\n",
       "        .then(() => displayChart(vegaEmbed));\n",
       "    }\n",
       "  })({\"$schema\": \"https://vega.github.io/schema/vega/v5.json\", \"data\": [{\"name\": \"source_0\", \"values\": [{\"__count\": 885976, \"bin_maxbins_20_trip_distance\": 0.0, \"bin_maxbins_20_trip_distance_end\": 5.0}, {\"__count\": 82170, \"bin_maxbins_20_trip_distance\": 5.0, \"bin_maxbins_20_trip_distance_end\": 10.0}, {\"__count\": 24008, \"bin_maxbins_20_trip_distance\": 10.0, \"bin_maxbins_20_trip_distance_end\": 15.0}, {\"__count\": 5891, \"bin_maxbins_20_trip_distance\": 15.0, \"bin_maxbins_20_trip_distance_end\": 20.0}, {\"__count\": 1312, \"bin_maxbins_20_trip_distance\": 20.0, \"bin_maxbins_20_trip_distance_end\": 25.0}, {\"__count\": 524, \"bin_maxbins_20_trip_distance\": 25.0, \"bin_maxbins_20_trip_distance_end\": 30.0}, {\"__count\": 70, \"bin_maxbins_20_trip_distance\": 30.0, \"bin_maxbins_20_trip_distance_end\": 35.0}, {\"__count\": 13, \"bin_maxbins_20_trip_distance\": 40.0, \"bin_maxbins_20_trip_distance_end\": 45.0}, {\"__count\": 25, \"bin_maxbins_20_trip_distance\": 35.0, \"bin_maxbins_20_trip_distance_end\": 40.0}, {\"__count\": 3, \"bin_maxbins_20_trip_distance\": 50.0, \"bin_maxbins_20_trip_distance_end\": 55.0}, {\"__count\": 1, \"bin_maxbins_20_trip_distance\": 60.0, \"bin_maxbins_20_trip_distance_end\": 65.0}, {\"__count\": 5, \"bin_maxbins_20_trip_distance\": 45.0, \"bin_maxbins_20_trip_distance_end\": 50.0}, {\"__count\": 1, \"bin_maxbins_20_trip_distance\": 75.0, \"bin_maxbins_20_trip_distance_end\": 80.0}, {\"__count\": 1, \"bin_maxbins_20_trip_distance\": 55.0, \"bin_maxbins_20_trip_distance_end\": 60.0}]}, {\"name\": \"source_0_y_domain___count\", \"values\": [{\"min\": 1, \"max\": 885976}]}], \"signals\": [{\"name\": \"bin_maxbins_20_trip_distance_bins\", \"value\": {\"fields\": [\"trip_distance\"], \"fname\": \"bin_trip_distance\", \"start\": 0.0, \"step\": 5.0, \"stop\": 80.0}}], \"marks\": [{\"type\": \"rect\", \"name\": \"marks\", \"from\": {\"data\": \"source_0\"}, \"encode\": {\"update\": {\"x2\": [{\"value\": 0, \"test\": \"!isValid(datum[\\\"bin_maxbins_20_trip_distance\\\"]) || !isFinite(+datum[\\\"bin_maxbins_20_trip_distance\\\"])\"}, {\"field\": \"bin_maxbins_20_trip_distance\", \"scale\": \"x\", \"offset\": 1}], \"x\": [{\"value\": 0, \"test\": \"!isValid(datum[\\\"bin_maxbins_20_trip_distance\\\"]) || !isFinite(+datum[\\\"bin_maxbins_20_trip_distance\\\"])\"}, {\"field\": \"bin_maxbins_20_trip_distance_end\", \"scale\": \"x\"}], \"y\": {\"field\": \"__count\", \"scale\": \"y\"}, \"y2\": {\"value\": 0, \"scale\": \"y\"}, \"fill\": {\"value\": \"#4c78a8\"}, \"ariaRoleDescription\": {\"value\": \"bar\"}, \"description\": {\"signal\": \"\\\"trip_distance (binned): \\\" + (!isValid(datum[\\\"bin_maxbins_20_trip_distance\\\"]) || !isFinite(+datum[\\\"bin_maxbins_20_trip_distance\\\"]) ? \\\"null\\\" : format(datum[\\\"bin_maxbins_20_trip_distance\\\"], \\\"\\\") + \\\" \\u2013 \\\" + format(datum[\\\"bin_maxbins_20_trip_distance_end\\\"], \\\"\\\")) + \\\"; Count of Records: \\\" + (format(datum[\\\"__count\\\"], \\\"\\\"))\"}}}, \"style\": [\"bar\"]}], \"scales\": [{\"name\": \"x\", \"type\": \"linear\", \"domain\": {\"signal\": \"[bin_maxbins_20_trip_distance_bins.start, bin_maxbins_20_trip_distance_bins.stop]\"}, \"range\": [0, {\"signal\": \"width\"}], \"bins\": {\"signal\": \"bin_maxbins_20_trip_distance_bins\"}, \"zero\": false}, {\"name\": \"y\", \"type\": \"linear\", \"domain\": [{\"signal\": \"(data(\\\"source_0_y_domain___count\\\")[0] || {}).min\"}, {\"signal\": \"(data(\\\"source_0_y_domain___count\\\")[0] || {}).max\"}], \"range\": [{\"signal\": \"height\"}, 0], \"zero\": true, \"nice\": true}], \"axes\": [{\"scale\": \"y\", \"gridScale\": \"x\", \"tickCount\": {\"signal\": \"ceil(height/40)\"}, \"maxExtent\": 0, \"ticks\": false, \"grid\": true, \"labels\": false, \"orient\": \"left\", \"zindex\": 0, \"minExtent\": 0, \"domain\": false, \"aria\": false}, {\"scale\": \"x\", \"grid\": false, \"labelFlush\": true, \"labelOverlap\": true, \"zindex\": 0, \"tickCount\": {\"signal\": \"ceil(width/10)\"}, \"title\": \"trip_distance (binned)\", \"orient\": \"bottom\"}, {\"scale\": \"y\", \"orient\": \"left\", \"tickCount\": {\"signal\": \"ceil(height/40)\"}, \"title\": \"Count of Records\", \"grid\": false, \"labelOverlap\": true, \"zindex\": 0}], \"height\": 200, \"background\": \"white\", \"width\": 600, \"padding\": 5, \"style\": \"cell\"}, {\"mode\": \"vega\"});\n",
       "</script>"
      ],
      "text/plain": [
       "alt.Chart(...)"
      ]
     },
     "execution_count": 8,
     "metadata": {},
     "output_type": "execute_result"
    }
   ],
   "source": [
    "columns = ['trip_distance', 'fare_amount', 'tip_amount', 'tolls_amount', 'total_amount', ]\n",
    "chart = alt.Chart(pdf[columns]).mark_bar().encode(\n",
    "  x=alt.X('trip_distance', type='quantitative', bin=alt.Bin(maxbins=20)),\n",
    "  y='count()'\n",
    ").properties(width=600, height=200)\n",
    "\n",
    "chart"
   ]
  },
  {
   "cell_type": "code",
   "execution_count": null,
   "metadata": {},
   "outputs": [],
   "source": []
  }
 ],
 "metadata": {
  "application/vnd.databricks.v1+notebook": {
   "dashboards": [],
   "language": "python",
   "notebookMetadata": {
    "pythonIndentUnit": 2
   },
   "notebookName": "2023-03-24 VegaFusion",
   "notebookOrigID": 1692289364326518,
   "widgets": {}
  },
  "kernelspec": {
   "display_name": "vega-altair-demo-002",
   "language": "python",
   "name": "vega-altair-demo-002"
  },
  "language_info": {
   "codemirror_mode": {
    "name": "ipython",
    "version": 3
   },
   "file_extension": ".py",
   "mimetype": "text/x-python",
   "name": "python",
   "nbconvert_exporter": "python",
   "pygments_lexer": "ipython3",
   "version": "3.10.10"
  }
 },
 "nbformat": 4,
 "nbformat_minor": 4
}
